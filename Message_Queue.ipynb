{
 "cells": [
  {
   "cell_type": "markdown",
   "id": "7059eac3",
   "metadata": {},
   "source": [
    "# Message Queues (MQ)\n",
    "A **Message Queue** is a form of asynchronous communication used in serverless and microservices architectures. Messages are stored in a queue until they are processed and deleted. Each message is processed only once by a single consumer."
   ]
  },
  {
   "cell_type": "markdown",
   "id": "475e94a9",
   "metadata": {},
   "source": [
    "![message queue](mq.png)"
   ]
  },
  {
   "cell_type": "markdown",
   "id": "df17ec06",
   "metadata": {},
   "source": [
    "## Simple Analogy\n",
    "Imagine you’re at a bakery. There’s a counter where you place your order, and then you wait until your order is ready.\n",
    "\n",
    "- The cashier (Producer) takes your order and adds it to a list (Queue). \n",
    "- The baker (Consumer) picks up orders from the list one by one, prepares them, and hands them back.\n",
    "The list where all the orders are temporarily stored is like a message queue.\n",
    "\n"
   ]
  },
  {
   "cell_type": "markdown",
   "id": "6f27150b",
   "metadata": {},
   "source": [
    "## Why Use Message Queues?\n",
    "In modern cloud architectures, applications are decoupled into smaller, independent building blocks that are easier to develop, deploy, and maintain. Message queues provide communication and coordination for these distributed applications. They allow different parts of a system to communicate and process operations asynchronously."
   ]
  },
  {
   "cell_type": "markdown",
   "id": "3962b71b",
   "metadata": {},
   "source": [
    "## Key Components of a Message Queue\n",
    "- **Producer**: The application or service that sends the message to the queue.\n",
    "- **Queue**: Stores the messages until they are consumed.\n",
    "- **Consumer**: The application or service that receives and processes the message from the queue.\n",
    "- **Broker**: A service that manages the queue, ensures message delivery, and handles other operations."
   ]
  },
  {
   "cell_type": "markdown",
   "id": "34863bef",
   "metadata": {},
   "source": [
    "## How Does a Message Queue Work?\n",
    "1. The **producer** sends a message to the queue via the **message broker**.\n",
    "2. The **broker** stores the message in the **queue**.\n",
    "3. The **consumer** listens to the queue or periodically checks it.\n",
    "4. When the consumer retrieves the message, it processes it.\n",
    "5. The message is removed from the queue once it's processed successfully."
   ]
  },
  {
   "cell_type": "markdown",
   "id": "5f6a970c",
   "metadata": {},
   "source": [
    "## Benefits\n",
    "- **Decoupling**: Allows independent development and scaling of producers and consumers.\n",
    "- **Scalability**: Easily handle increased workloads by adding more consumers.\n",
    "- **Asynchronous Communication**: Producers and consumers do not need to run simultaneously.\n",
    "- **Fault Tolerance**: Ensures no data is lost during system failures.\n",
    "- **Load Balancing**: Distribute tasks evenly among multiple consumers.\n",
    "- **Rate Limiting**: Smooth out traffic spikes by queueing requests."
   ]
  },
  {
   "cell_type": "markdown",
   "id": "b842e174",
   "metadata": {},
   "source": [
    "## Message Queue Models\n",
    "### 1. Point-to-Point (One-to-One)\n",
    "- A single consumer processes each message.\n",
    "- Messages are removed from the queue once processed.\n",
    "\n",
    "### 2. Publish-Subscribe (Pub/Sub) (Many-to-Many)\n",
    "- Messages are broadcast to multiple consumers (subscribers).\n",
    "- Consumers receive a copy of the same message."
   ]
  },
  {
   "cell_type": "markdown",
   "id": "0f668d90",
   "metadata": {},
   "source": [
    "## Popular Message Queue Tools\n",
    "1. **RabbitMQ**\n",
    "   - Open-source and highly configurable.\n",
    "2. **Apache Kafka**\n",
    "   - Designed for distributed systems and large-scale data streaming.\n",
    "3. **Amazon SQS (Simple Queue Service)**\n",
    "   - Fully managed queue service by AWS.\n",
    "4. **Redis**\n",
    "   - Lightweight and fast in-memory data structure store, often used as a message queue."
   ]
  }
 ],
 "metadata": {
  "language_info": {
   "name": "python"
  }
 },
 "nbformat": 4,
 "nbformat_minor": 5
}
