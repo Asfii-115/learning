{
 "cells": [
  {
   "cell_type": "markdown",
   "metadata": {},
   "source": [
    "# Pub/Sub Model\n",
    "\n",
    "The Publish-Subscribe (Pub/Sub) model is a messaging pattern commonly used for communication in distributed systems. It is designed to decouple message producers (publishers) from message consumers (subscribers), enabling asynchronous communication. "
   ]
  },
  {
   "cell_type": "markdown",
   "metadata": {},
   "source": [
    "![pubsub](pubsub.png)"
   ]
  },
  {
   "cell_type": "markdown",
   "metadata": {},
   "source": [
    "## key components\n",
    "   - **Publisher**: sends or \"publishes\" messages to a specific topic or channel.\n",
    "   - **Subscriber**: listens for and \"subscribes\" to messages from a topic or channel.\n",
    "   - **Topic (or Channel)**: A logical channel or message queue that holds the messages. \n",
    "   - **Broker**: In many Pub/Sub systems, a message broker acts as an intermediary that receives messages from publishers and forwards them to the appropriate subscribers."
   ]
  },
  {
   "cell_type": "markdown",
   "metadata": {},
   "source": [
    "\n",
    "## How it works\n",
    "   - **Publishing**: A publisher sends a message to a topic. It does not need to know or care who the subscribers are. \n",
    "   - **Subscribing**: Subscribers receive messages from topic they are subscribed to.\n",
    "   \n",
    "   The broker is responsible for storing the messages temporarily and ensuring that all relevant subscribers get the messages. "
   ]
  },
  {
   "cell_type": "markdown",
   "metadata": {},
   "source": [
    "## Message Consumption\n",
    "- When a message is sent by a publisher, it is usually delivered to **all subscribers** who are currently subscribed to that topic.\n",
    "- In some systems, messages might be delivered to subscribers in a **point-to-point** fashion (one message per subscriber)\n",
    "   "
   ]
  },
  {
   "cell_type": "markdown",
   "metadata": {},
   "source": [
    "## Multiple Subscribers?\n",
    "If multiple subscribers subscribe to same topic:\n",
    "\n",
    "- **Fan-out Model**: Each subscriber receives its own copy of the message. (no duplicates as each sub performs their distinct tasks)\n",
    "\n",
    "- **Load-balanced Model**: The broker ensures that each message is sent to only one subscriber, providing load balancing among the consumers (often used in systems like Kafka with consumer groups)."
   ]
  },
  {
   "cell_type": "markdown",
   "metadata": {},
   "source": [
    "\n",
    "## Pub/Sub vs. Kafka\n",
    "\n",
    "Kafka is a widely-used message broker that implements a **Pub/Sub** model but with some advanced features:\n",
    "- messages are retained for a set amount of time even after they are consumed, allowing late consumers to read the messages.\n",
    "- Kafka supports consumer groups for load balancing, allowing multiple consumers to share the load of reading messages from a topic."
   ]
  }
 ],
 "metadata": {
  "language_info": {
   "name": "python"
  },
  "orig_nbformat": 4
 },
 "nbformat": 4,
 "nbformat_minor": 2
}
